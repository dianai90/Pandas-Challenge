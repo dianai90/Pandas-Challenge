{
 "cells": [
  {
   "cell_type": "markdown",
   "id": "3c4dad61",
   "metadata": {},
   "source": [
    "# PyCity Schools Analysis"
   ]
  },
  {
   "cell_type": "code",
   "execution_count": 1,
   "id": "b50c5632-2a83-40f6-9dee-031d2a52ef16",
   "metadata": {},
   "outputs": [
    {
     "ename": "NameError",
     "evalue": "name 'school_data_info' is not defined",
     "output_type": "error",
     "traceback": [
      "\u001b[1;31m---------------------------------------------------------------------------\u001b[0m",
      "\u001b[1;31mNameError\u001b[0m                                 Traceback (most recent call last)",
      "Cell \u001b[1;32mIn[1], line 11\u001b[0m\n\u001b[0;32m      8\u001b[0m student_dta_info \u001b[38;5;241m=\u001b[39m (\u001b[38;5;124m\"\u001b[39m\u001b[38;5;124mPyCitySchools/Resources/students_complete.csv\u001b[39m\u001b[38;5;124m\"\u001b[39m)\n\u001b[0;32m     10\u001b[0m \u001b[38;5;66;03m#read school and student data files\u001b[39;00m\n\u001b[1;32m---> 11\u001b[0m school_dta \u001b[38;5;241m=\u001b[39m pd\u001b[38;5;241m.\u001b[39mread_csv(\u001b[43mschool_data_info\u001b[49m)\n\u001b[0;32m     12\u001b[0m student_dta \u001b[38;5;241m=\u001b[39m pd\u001b[38;5;241m.\u001b[39mread_csv(student_data_info)\n\u001b[0;32m     14\u001b[0m \u001b[38;5;66;03m#Combine data into a single dataset\u001b[39;00m\n",
      "\u001b[1;31mNameError\u001b[0m: name 'school_data_info' is not defined"
     ]
    }
   ],
   "source": [
    "#Import Dependencies\n",
    "import numpy as np\n",
    "import pandas as pd \n",
    "\n",
    "\n",
    "# file to load\n",
    "school_dta_info = (\"PyCitySchools/Resources/schools_complete.csv\")\n",
    "student_dta_info = (\"PyCitySchools/Resources/students_complete.csv\")\n",
    "\n",
    "#read school and student data files\n",
    "school_dta = pd.read_csv(school_data_info)\n",
    "student_dta = pd.read_csv(student_data_info)\n",
    "\n",
    "#Combine data into a single dataset\n",
    "school_data_complete = pd.merge(student_data, school_data, how=\"left\", on=[\"school_name\", \"school_name\"])\n",
    "school_data_complete.head()  \n",
    "\n",
    "\n",
    "\n"
   ]
  },
  {
   "cell_type": "markdown",
   "id": "f79a4266",
   "metadata": {},
   "source": [
    "# District Summary"
   ]
  },
  {
   "cell_type": "code",
   "execution_count": null,
   "id": "9653db10",
   "metadata": {
    "scrolled": true
   },
   "outputs": [],
   "source": [
    "#calculate number of unique schools\n",
    "school_tally = len(school_data_complete[\"school_name\"].unique())\n",
    "student_tally = school_data_complete [\"Student ID\"].count()\n",
    "\n",
    "#Calculate total budget\n",
    "total_budget = school_data['budget'].sum()\n",
    "\n",
    "#Calculating average scores\n",
    "avg_math_score = school_data_complete[\"math_score\"].mean()\n",
    "avg_reading_score = school_data_complete[\"reading_score\"].mean()\n",
    "overall_passing_rate = (avg_math_score+avg_reading_score)/2\n",
    "\n",
    "\n",
    "#percentage of students that passed math and reading\n",
    "passing_math_tally = school_data_complete[(school_data_complete[\"math_score\"] > 70)].count()[\"student_name\"]\n",
    "passing_math_perc = passing_math_tally / float(student_tally) * 100\n",
    "passing_reading_tally = school_data_complete[(school_data_complete[\"reading_score\"] >70)].count()[\"student_name\"]\n",
    "passing_reading_perc = passing_reading_tally / float(student_tally) *100\n",
    "                                                                                               \n",
    "district_summary = pd.DataFrame({\"Total Schools\": [school_tally],\n",
    "                                \"Total Students\": [student_tally],\n",
    "                                \"Total Budget\": [total_budget],\n",
    "                                \"Average Math Score\": [avg_math_score],\n",
    "                                \"Average Reading Score\": [avg_reading_score],\n",
    "                                \"% Passing Math\": [passing_math_perc],\n",
    "                                \"% Passing Reading\": [passing_reading_perc],\n",
    "                                \"% Overall Passing Rate\": [overall_passing_rate]})  \n",
    "\n",
    "\n",
    "district_summary = district_summary[[\"Total Schools\", \"Total Students\", \"Total Budget\", \"Average Math Score\",\n",
    "                                     \"Average Reading Score\", \"% Passing Math\", \"% Passing Reading\", \"% Overall Passing Rate\"]]\n",
    "                                     \n",
    "#Format                               \n",
    "district_summary[\"Total Students\"] = district_summary[\"Total Students\"].map(\"{:,}\".format)\n",
    "district_summary[\"Total Budget\"] = district_summary [\"Total Budget\"].map(\"${:,.2f}\".format)\n",
    "\n",
    "\n",
    "#Display data frame\n",
    "district_summary\n"
   ]
  },
  {
   "cell_type": "markdown",
   "id": "fae1e9ad",
   "metadata": {},
   "source": [
    "# School Summary "
   ]
  },
  {
   "cell_type": "code",
   "execution_count": null,
   "id": "ebc04133",
   "metadata": {},
   "outputs": [],
   "source": [
    "#Determine the school type\n",
    "school_types = school_data.set_index([\"school_name\"])[\"type\"] \n",
    "\n",
    "#Calculate total student count\n",
    "per_school_tally = school_data_complete[\"school_name\"].value_counts()\n",
    "\n",
    "#calculate total school budget and per capita spending\n",
    "per_school_budget_total = school_data_complete.groupby([\"school_name\"]).mean()[\"budget\"]\n",
    "school_capita_total = per_school_budget_total / per_school_tally\n",
    "\n",
    "#calculate average test score\n",
    "each_school_math = school_data_complete.groupby([\"school_name\"]).mean()[\"math_score\"]\n",
    "each_school_reading = school_data_complete.groupby([\"school_name\"]).mean()[\"reading_score\"]\n",
    "\n",
    "#calculate passing scores in a data frame\n",
    "school_passing_math = school_data_complete[(school_data_complete[\"math_score\"] > 70)]\n",
    "school_passing_reading = school_data_complete[(school_data_complete[\"reading_score\"] > 70)]\n",
    "\n",
    "each_school_passing_math = school_passing_math.groupby([\"school_name\"]).count()[\"student_name\"] / per_school_tally *100\n",
    "each_school_passing_reading = school_passing_reading.groupby([\"school_name\"]).count()[\"student_name\"] / per_school_tally *100\n",
    "overall_passing_rate = (each_school_passing_math + each_school_passing_reading) / 2\n",
    "\n",
    "#convert to DataFrame\n",
    "school_summary = pd.DataFrame({\"School Type\": school_types, \n",
    "                              \"Total Students\": per_school_tally,\n",
    "                              \"Total School Budget\": per_school_budget_total,\n",
    "                              \"Per Student Budget\": school_capita_total,\n",
    "                              \"Average Math Score\": each_school_math,\n",
    "                              \"Average Reading Score\": each_school_reading,\n",
    "                              \"% Passing Math\": each_school_passing_math,\n",
    "                              \"% Passing Reading\": each_school_passing_reading,\n",
    "                              \"% Overall Passing Rate\": overall_passing_rate})\n",
    "\n",
    "school_summary = school_summary[[\"School Type\", \"Total Students\", \"Total School Budget\", \"Per Student Budget\",\n",
    "                                 \"Average Math Score\", \"Average Reading Score\", \"% Passing Math\",\n",
    "                                 \"% Passing Reading\", \"% Overall Passing Rate\"]]\n",
    "\n",
    "school_summary[\"Total School Budget\"] = school_summary[\"Total School Budget\"].map(\"${:,.2f}\".format)\n",
    "school_summary[\"Per Student Budget\"] = school_summary[\"Per Student Budget\"].map(\"${:,.2f}\".format)\n",
    "\n",
    "#Display\n",
    "school_summary\n",
    "\n"
   ]
  },
  {
   "cell_type": "markdown",
   "id": "aceb7af2",
   "metadata": {},
   "source": [
    "# Highest- Performing Schools (by % Overall Passing) "
   ]
  },
  {
   "cell_type": "code",
   "execution_count": null,
   "id": "cb11bba5",
   "metadata": {},
   "outputs": [],
   "source": [
    "#Sort Top 5 Schools\n",
    "top_schools = school_summary.sort_values([\"% Overall Passing Rate\"], ascending=False)\n",
    "\n",
    "top_schools.head()"
   ]
  },
  {
   "cell_type": "markdown",
   "id": "223d74bf",
   "metadata": {},
   "source": [
    "# Lowest Performing Schools (by % Overall Passing)"
   ]
  },
  {
   "cell_type": "code",
   "execution_count": null,
   "id": "9171e67c",
   "metadata": {},
   "outputs": [],
   "source": [
    "lowest_schools = school_summary.sort_values([\"% Overall Passing Rate\"], ascending=True)\n",
    "lowest_schools.head()"
   ]
  },
  {
   "cell_type": "markdown",
   "id": "972495eb",
   "metadata": {},
   "source": [
    "# Math Scores by Grade"
   ]
  },
  {
   "cell_type": "code",
   "execution_count": null,
   "id": "92912efd",
   "metadata": {},
   "outputs": [],
   "source": [
    "#Data by grade\n",
    "ninth_graders = school_data_complete[(school_data_complete[\"grade\"] == \"9th\")]\n",
    "tenth_graders = school_data_complete[(school_data_complete[\"grade\"] == \"10th\")]\n",
    "eleventh_graders = school_data_complete[(school_data_complete[\"grade\"] == \"11th\")]\n",
    "twelfth_graders = school_data_complete[(school_data_complete[\"grade\"] == \"12th\")]\n",
    "\n",
    "#Group by school name and mean of math scores\n",
    "ninth_grade_mat_scores = ninth_graders.groupby([\"school_name\"]).mean()[\"math_score\"]\n",
    "tenth_grade_mat_scores = tenth_graders.groupby([\"school_name\"]).mean()[\"math_score\"]\n",
    "eleventh_grade_mat_scores = eleventh_graders.groupby([\"school_name\"]).mean()[\"math_score\"]\n",
    "twelfth_grade_mat_scores = twelfth_graders.groupby([\"school_name\"]).mean()[\"math_score\"] \n",
    "\n",
    "#convert to DataFrame\n",
    "math_scores_by_grade = pd.DataFrame ({\"9th\": ninth_grade_mat_scores, \"10th\": tenth_grade_mat_scores, \n",
    "                                      \"11th\": eleventh_grade_mat_scores, \"12th\": twelfth_grade_mat_scores})\n",
    "\n",
    "math_scores_by_grade = math_scores_by_grade[[\"9th\", \"10th\", \"11th\", \"12th\"]]\n",
    "math_scores_by_grade.index.name = None\n",
    "\n",
    "#Display DataFrame\n",
    "math_scores_by_grade"
   ]
  },
  {
   "cell_type": "markdown",
   "id": "125b2f1d",
   "metadata": {},
   "source": [
    "# Reading Scores by Grade"
   ]
  },
  {
   "cell_type": "code",
   "execution_count": null,
   "id": "1490779c",
   "metadata": {},
   "outputs": [],
   "source": [
    "#Data by grade\n",
    "ninth_graders = school_data_complete[(school_data_complete[\"grade\"] == \"9th\")]\n",
    "tenth_graders = school_data_complete[(school_data_complete[\"grade\"] == \"10th\")]\n",
    "eleventh_graders = school_data_complete[(school_data_complete[\"grade\"] == \"11th\")]\n",
    "twelfth_graders = school_data_complete[(school_data_complete[\"grade\"] == \"12th\")]\n",
    "\n",
    "#Group by school name and mean of math scores\n",
    "ninth_grade_rdg_scores = ninth_graders.groupby([\"school_name\"]).mean()[\"reading_score\"]\n",
    "tenth_grade_rdg_scores = tenth_graders.groupby([\"school_name\"]).mean()[\"reading_score\"]\n",
    "eleventh_grade_rdg_scores = eleventh_graders.groupby([\"school_name\"]).mean()[\"reading_score\"]\n",
    "twelfth_grade_rdg_scores = twelfth_graders.groupby([\"school_name\"]).mean()[\"reading_score\"] \n",
    "\n",
    "#convert to DataFrame\n",
    "reading_scores_by_grade = pd.DataFrame ({\"9th\": ninth_grade_rdg_scores, \"10th\": tenth_grade_rdg_scores, \n",
    "                                      \"11th\": eleventh_grade_rdg_scores, \"12th\": twelfth_grade_rdg_scores})\n",
    "\n",
    "reading_scores_by_grade = reading_scores_by_grade[[\"9th\", \"10th\", \"11th\", \"12th\"]]\n",
    "reading_scores_by_grade.index.name = None\n",
    "\n",
    "#Display DataFrame\n",
    "reading_scores_by_grade"
   ]
  },
  {
   "cell_type": "markdown",
   "id": "da72bbf6",
   "metadata": {},
   "source": [
    "# Scores by School Spending"
   ]
  },
  {
   "cell_type": "code",
   "execution_count": null,
   "id": "c1656bcf",
   "metadata": {},
   "outputs": [],
   "source": [
    "# Establishing Bins\n",
    "spending_bins = [0, 585, 630, 645, 680]\n",
    "group = [\"<$585\", \"$585-630\", \"$630-645\", \"$645-680\"]\n",
    "\n",
    "#group spending bins\n",
    "school_summary[\"Spending Ranges (Per Student)\"] = pd.cut(school_capita_total, spending_bins, labels=group)\n",
    "\n",
    "spending_mat_scores = school_summary.groupby([\"Spending Ranges (Per Student)\"]).mean()[\"Average Math Score\"]\n",
    "spending_rdg_scores = school_summary.groupby([\"Spending Ranges (Per Student)\"]).mean()[\"Average Reading Score\"]\n",
    "spending_mat_passing = school_summary.groupby([\"Spending Ranges (Per Student)\"]).mean()[\"% Passing Math\"]\n",
    "spending_rdg_passing = school_summary.groupby([\"Spending Ranges (Per Student)\"]).mean()[\"% Passing Reading\"]\n",
    "overall_passing_rate = (spending_mat_passing + spending_rdg_passing) / 2\n",
    "\n",
    "#convert to DataFrame\n",
    "spending_summary = pd.DataFrame({\"Average Math Score\": spending_mat_scores, \"Average Reading Score\": spending_rdg_scores,\n",
    "                                 \"% Passing Math\": spending_mat_passing, \"% Passing Reading\": spending_rdg_passing,\n",
    "                                 \"% Overall Passing Rate\": overall_passing_rate})\n",
    "\n",
    "spending_summary = spending_summary [[\"Average Math Score\", \"Average Reading Score\", \"% Passing Math\", \"% Passing Reading\",\n",
    "                                    \"% Overall Passing Rate\"]] \n",
    "\n",
    "#Display the DataFrame\n",
    "spending_summary"
   ]
  },
  {
   "cell_type": "markdown",
   "id": "3f71b1a4",
   "metadata": {},
   "source": [
    "# Scores by School Size"
   ]
  },
  {
   "cell_type": "code",
   "execution_count": null,
   "id": "dd67d198",
   "metadata": {},
   "outputs": [],
   "source": [
    "#Establishing Bins\n",
    "size_bins = [0, 1000, 2000, 5000]\n",
    "group = [\"Small (<1000)\", \"Medium (1000-2000)\", \"Large (2000-5000)\"]\n",
    "\n",
    "school_summary[\"School Size\"] = pd.cut(school_summary[\"Total Students\"], size_bins, labels=group)\n",
    "\n",
    "size_mat = school_summary.groupby([\"School Size\"]).mean()[\"Average Math Score\"]\n",
    "size_rdg = school_summary.groupby([\"School Size\"]).mean()[\"Average Reading Score\"]\n",
    "size_mat_passing = school_summary.groupby([\"School Size\"]).mean()[\"% Passing Math\"]\n",
    "size_rdg_passing = school_summary.groupby([\"School Size\"]).mean()[\"% Passing Reading\"]\n",
    "rate_overall_passing = (size_mat_passing + size_rdg_passing) / 2\n",
    "\n",
    "#convert to DataFrame\n",
    "size_summary = pd.DataFrame({\"Average Math Score\": spending_mat_scores, \"Average Reading Score\": spending_rdg_scores,\n",
    "                                 \"% Passing Math\": spending_mat_passing, \"% Passing Reading\": spending_rdg_passing,\n",
    "                                 \"% Overall Passing Rate\": rate_overall_passing})\n",
    "size_summary = size_summary [[\"Average Math Score\", \"Average Reading Score\", \"% Passing Math\", \"% Passing Reading\",\n",
    "                                    \"% Overall Passing Rate\"]] \n",
    "\n",
    "#Display DataFrame\n",
    "size_summary\n"
   ]
  },
  {
   "cell_type": "markdown",
   "id": "7f39be8b",
   "metadata": {},
   "source": [
    "# Scores by School Type"
   ]
  },
  {
   "cell_type": "code",
   "execution_count": null,
   "id": "eeb343bf",
   "metadata": {},
   "outputs": [],
   "source": [
    "#School Type\n",
    "mat_score_type = school_summary.groupby([\"School Type\"]).mean()[\"Average Math Score\"]\n",
    "rdg_score_type = school_summary.groupby([\"School Type\"]).mean()[\"Average Reading Score\"]\n",
    "mat_passing_type = school_summary.groupby([\"School Type\"]).mean()[\"% Passing Math\"]\n",
    "rdg_passing_type = school_summary.groupby([\"School Type\"]).mean()[\"% Passing Reading\"]\n",
    "rate_overall_passing = (mat_passing_type + rdg_passing_type) / 2\n",
    "\n",
    "type_summary = pd.DataFrame({\"Average Math Score\": spending_mat_scores, \"Average Reading Score\": spending_rdg_scores,\n",
    "                                 \"% Passing Math\": spending_mat_passing, \"% Passing Reading\": spending_rdg_passing,\n",
    "                                 \"% Overall Passing Rate\": rate_overall_passing})\n",
    "type_summary = size_summary [[\"Average Math Score\", \"Average Reading Score\", \"% Passing Math\", \"% Passing Reading\",\n",
    "                                    \"% Overall Passing Rate\"]] \n",
    "\n",
    "#Display Data Frame\n",
    "type_summary"
   ]
  },
  {
   "cell_type": "code",
   "execution_count": null,
   "id": "6a87ef11",
   "metadata": {},
   "outputs": [],
   "source": []
  }
 ],
 "metadata": {
  "kernelspec": {
   "display_name": "Python 3 (ipykernel)",
   "language": "python",
   "name": "python3"
  },
  "language_info": {
   "codemirror_mode": {
    "name": "ipython",
    "version": 3
   },
   "file_extension": ".py",
   "mimetype": "text/x-python",
   "name": "python",
   "nbconvert_exporter": "python",
   "pygments_lexer": "ipython3",
   "version": "3.10.9"
  }
 },
 "nbformat": 4,
 "nbformat_minor": 5
}
